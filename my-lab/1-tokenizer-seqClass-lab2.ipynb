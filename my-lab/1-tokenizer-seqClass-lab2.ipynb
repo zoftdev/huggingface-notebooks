{
 "cells": [
  {
   "cell_type": "code",
   "execution_count": 8,
   "metadata": {},
   "outputs": [
    {
     "name": "stdout",
     "output_type": "stream",
     "text": [
      "{'input_ids': tensor([[  101,  1996,  4248,  2829,  4419, 14523,  2058,  1996, 13971,  3899,\n",
      "          1012,   102]]), 'attention_mask': tensor([[1, 1, 1, 1, 1, 1, 1, 1, 1, 1, 1, 1]])}\n",
      "tensor([[0.8030, 0.1970]], grad_fn=<SoftmaxBackward0>)\n"
     ]
    }
   ],
   "source": [
    "import transformers\n",
    "from transformers import   AutoTokenizer,AutoModelForSequenceClassification\n",
    "raws=[\"\"\"The quick brown fox jumps over the lazy dog.\"\"\"]\n",
    "checkpoint=\"distilbert-base-uncased-finetuned-sst-2-english\"\n",
    "tokenizer=AutoTokenizer.from_pretrained(checkpoint)\n",
    "inputs=tokenizer(raws,return_tensors=\"pt\",padding=True,truncation=True)\n",
    "print(inputs)\n",
    "model=AutoModelForSequenceClassification.from_pretrained(checkpoint)\n",
    "outputs=model(**inputs)\n",
    "import torch\n",
    "predictions= torch.nn.functional.softmax(outputs.logits,dim=1)\n",
    "print(predictions)"
   ]
  },
  {
   "cell_type": "code",
   "execution_count": null,
   "metadata": {},
   "outputs": [],
   "source": []
  }
 ],
 "metadata": {
  "kernelspec": {
   "display_name": "base",
   "language": "python",
   "name": "python3"
  },
  "language_info": {
   "codemirror_mode": {
    "name": "ipython",
    "version": 3
   },
   "file_extension": ".py",
   "mimetype": "text/x-python",
   "name": "python",
   "nbconvert_exporter": "python",
   "pygments_lexer": "ipython3",
   "version": "3.11.9"
  }
 },
 "nbformat": 4,
 "nbformat_minor": 2
}
